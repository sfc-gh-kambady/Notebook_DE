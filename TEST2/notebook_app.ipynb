{
 "metadata": {
  "kernelspec": {
   "display_name": "Streamlit Notebook- New edition",
   "name": "streamlit"
  }
 },
 "nbformat_minor": 5,
 "nbformat": 4,
 "cells": [
  {
   "cell_type": "code",
   "id": "69d553d0-962c-4c1f-aeda-59c74bcdbcd6",
   "metadata": {
    "language": "python",
    "name": "cell2"
   },
   "outputs": [],
   "source": "# Import  packages\nfrom snowflake.snowpark.session import Session\nfrom snowflake.snowpark.context import get_active_session\nfrom snowflake.snowpark.functions import month,year,col,sum\nfrom snowflake.snowpark.version import VERSION\nfrom snowflake.core import Root\nfrom snowflake.core.task import Task, StoredProcedureCall\nfrom datetime import timedelta\nfrom snowflake.core.task.dagv1 import DAG, DAGTask, DAGOperation\nfrom snowflake.core import CreateMode\n#https://quickstarts.snowflake.com/guide/getting_started_with_dataengineering_ml_using_snowpark_python/index.html#2\n#session = get_active_session()\nfrom snowflake.snowpark import Session\nfrom snowflake.snowpark.context import get_active_session\nsession = get_active_session()\n",
   "execution_count": null
  },
  {
   "cell_type": "code",
   "id": "f151d410-8e3c-47d6-a108-6d5a49ee8372",
   "metadata": {
    "language": "python",
    "name": "cell1"
   },
   "outputs": [],
   "source": "snow_df_spend_t = session.table('DASH_DB.DASH_SCHEMA.campaign_spend')\nsnow_df_spend_t.show(2)",
   "execution_count": null
  }
 ]
}