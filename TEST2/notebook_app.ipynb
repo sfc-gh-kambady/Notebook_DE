{
 "metadata": {
  "kernelspec": {
   "display_name": "Streamlit Notebook",
   "name": "streamlit"
  }
 },
 "nbformat_minor": 5,
 "nbformat": 4,
 "cells": [
  {
   "cell_type": "code",
   "id": "3775908f-ca36-4846-8f38-5adca39217f2",
   "metadata": {
    "language": "python",
    "name": "cell1",
    "collapsed": false
   },
   "source": " ",
   "execution_count": null,
   "outputs": []
  },
  {
   "cell_type": "code",
   "id": "d711e846-d6de-4ec2-9a18-ffea96c4037c",
   "metadata": {
    "language": "sql",
    "name": "Sales",
    "collapsed": false
   },
   "outputs": [],
   "source": "SELECT * FROM demo.demo.daily_sales\n",
   "execution_count": null
  }
 ]
}