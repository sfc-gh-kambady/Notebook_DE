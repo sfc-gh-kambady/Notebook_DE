{
 "metadata": {
  "kernelspec": {
   "display_name": "Streamlit Notebook",
   "name": "streamlit"
  }
 },
 "nbformat_minor": 5,
 "nbformat": 4,
 "cells": [
  {
   "cell_type": "code",
   "id": "d711e846-d6de-4ec2-9a18-ffea96c4037c",
   "metadata": {
    "language": "sql",
    "name": "Sales",
    "collapsed": false,
    "resultHeight": 0
   },
   "outputs": [],
   "source": "SELECT * FROM demo.demo.daily_sales\n",
   "execution_count": null
  },
  {
   "cell_type": "code",
   "id": "bfcedcb9-e30f-454a-bd8a-2f397b341716",
   "metadata": {
    "language": "sql",
    "name": "cell2"
   },
   "outputs": [],
   "source": " SELECT * FROM demo.demo.daily_sales\nwhere customer_id=2",
   "execution_count": null
  }
 ]
}